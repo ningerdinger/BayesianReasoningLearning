{
 "cells": [
  {
   "cell_type": "code",
   "execution_count": 654,
   "id": "246ade27",
   "metadata": {},
   "outputs": [],
   "source": [
    "import numpy as np\n",
    "import pandas as pd\n",
    "import pyAgrum as gum\n",
    "import pyAgrum.lib.notebook as gnb\n",
    "import pyAgrum.causal as csl\n",
    "import pyAgrum.causal.notebook as cslnb\n",
    "import itertools\n",
    "import networkx as nx\n",
    "import matplotlib.pyplot as plt"
   ]
  },
  {
   "cell_type": "code",
   "execution_count": 655,
   "id": "4d93476d",
   "metadata": {},
   "outputs": [],
   "source": [
    "# Create the combined Bayesian NetworkLabelizedVariable\n",
    "bn = gum.BayesNet(\"CombinedDepressionModel\")\n",
    "\n",
    "# -----------------------------------------\n",
    "# Sociodemographic Branch\n",
    "# -----------------------------------------\n",
    "\n",
    "# Independent nodes\n",
    "age = bn.add(gum.LabelizedVariable(\"Age\", \"Age category\", [\"15-34\", \"35-54\", \"55-74\"]))\n",
    "edu = bn.add(gum.LabelizedVariable(\"Education\", \"Education Level\", [\"Low\", \"Medium\", \"High\"]))\n",
    "inc = bn.add(gum.LabelizedVariable(\"Income\", \"Income Level\", [\"Unemployed\", \"Employed\"]))\n",
    "bn.addArc(age, inc)\n",
    "bn.addArc(edu, inc)\n",
    "\n",
    "# Aggregated SocioStatus\n",
    "socio = bn.add(gum.LabelizedVariable(\"SocioStatus\", \"Overall sociodemographic status\", [\"Low\", \"High\"]))\n",
    "bn.addArc(edu, socio)\n",
    "bn.addArc(inc, socio)\n",
    "\n",
    "# -----------------------------------------\n",
    "# Physical Health Branch\n",
    "# -----------------------------------------\n",
    "physicalActivity = bn.add(gum.LabelizedVariable(\"Physical Activity\", \"Physical Activity Level\", [\"Inactive\", \"Moderate\", \"Active\"]))\n",
    "obesity = bn.add(gum.LabelizedVariable(\"Obesity\", \"Obesity Status\", [\"Obese\", \"Not Obese\"]))\n",
    "\n",
    "# Aggregated PhysicalHealth\n",
    "physattri = bn.add(gum.LabelizedVariable(\"Physical Attribute\", \"Overall Physical Attribute\", [\"Poor\", \"Good\"]))\n",
    "bn.addArc(physicalActivity, physattri)\n",
    "bn.addArc(obesity, physattri)\n",
    "\n",
    "# -----------------------------------------\n",
    "# Additional Independent Nodes\n",
    "# -----------------------------------------\n",
    "\n",
    "# Define a non-binary variable with three states representing genetic predisposition:\n",
    "genetic = bn.add(gum.LabelizedVariable(\"GeneticPredisposition\", \"Genetic Predisposition\", [\"Absent\", \"Present\"]))\n",
    "bn.cpt(genetic).fillWith([0.80, 0.20])\n",
    "\n",
    "\n",
    "adverse = bn.add(gum.LabelizedVariable(\"AdverseChildhood\", \"Adverse Childhood Experiences\", [\"Absent\", \"Present\"]))\n",
    "bn.cpt(adverse).fillWith([0.95, 0.05])  # 70% report no ACE, 30% do\n",
    "\n",
    "# -----------------------------------------\n",
    "# Outcome Node: Depression \n",
    "# -----------------------------------------\n",
    "\n",
    "depress = bn.add(gum.LabelizedVariable(\"Depression\", \"Depression Status\", [\"No\", \"Yes\"]))\n",
    "bn.addArc(socio, depress)\n",
    "bn.addArc(physattri, depress)\n",
    "bn.addArc(genetic, depress)\n",
    "bn.addArc(adverse, depress)\n"
   ]
  },
  {
   "cell_type": "code",
   "execution_count": 656,
   "id": "d35f4aa3",
   "metadata": {},
   "outputs": [],
   "source": [
    "df_edu = pd.read_csv('Onderwijs.csv', delimiter=';', decimal=',')\n",
    "df_age = pd.read_csv('Leeftijd.csv', delimiter=';', decimal=',')"
   ]
  },
  {
   "cell_type": "code",
   "execution_count": 657,
   "id": "903a6b16",
   "metadata": {},
   "outputs": [],
   "source": [
    "# Group 1: Basic and lower secondary education (rows 0 and 1)\n",
    "group1_total_edu = df_edu.iloc[0:2]['Bevolking  (x 1000)'].sum()\n",
    "\n",
    "# Group 2: Upper secondary education (row 2)\n",
    "group2_total_edu = df_edu.iloc[2:3]['Bevolking  (x 1000)'].sum()\n",
    "\n",
    "# Group 3: Higher education (rows 3 and 4)\n",
    "group3_total_edu = df_edu.iloc[3:5]['Bevolking  (x 1000)'].sum()\n",
    "\n",
    "# Calculate the overall total population\n",
    "total_population_edu = group1_total_edu + group2_total_edu + group3_total_edu\n",
    "\n",
    "# Convert each group's total into a percentage of the overall population\n",
    "perc_group1_edu = group1_total_edu / total_population_edu\n",
    "perc_group2_edu = group2_total_edu / total_population_edu\n",
    "perc_group3_edu = group3_total_edu / total_population_edu\n",
    "\n",
    "# Create the percentage list (rounded to 2 decimals)\n",
    "percentage_edu = [perc_group1_edu, perc_group2_edu, perc_group3_edu]\n"
   ]
  },
  {
   "cell_type": "code",
   "execution_count": 658,
   "id": "f31d8394",
   "metadata": {},
   "outputs": [],
   "source": [
    "# Aggregate population counts by the three broader age groups:\n",
    "# Group 1: \"15 tot 35 jaar\" (rows 0 to 3)\n",
    "group1_total_age = df_age.iloc[0:4]['Bevolking (aantal)'].sum()\n",
    "\n",
    "# Group 2: \"35 tot 55 jaar\" (rows 4 to 7)\n",
    "group2_total_age = df_age.iloc[4:8]['Bevolking (aantal)'].sum()\n",
    "\n",
    "# Group 3: \"55 tot 75 jaar\" (rows 8 to 11)\n",
    "group3_total_age = df_age.iloc[8:12]['Bevolking (aantal)'].sum()\n",
    "\n",
    "# Calculate the overall total population\n",
    "total_population_age = group1_total_age + group2_total_age + group3_total_age\n",
    "\n",
    "# Convert each group's total into a percentage of the overall population\n",
    "perc_group1_age = group1_total_age / total_population_age\n",
    "perc_group2_age = group2_total_age / total_population_age\n",
    "perc_group3_age = group3_total_age / total_population_age\n",
    "\n",
    "# Create the percentage list (rounded to 2 decimals)\n",
    "percentage_age = [perc_group1_age, perc_group2_age, perc_group3_age]"
   ]
  },
  {
   "cell_type": "code",
   "execution_count": 659,
   "id": "a5624c3d",
   "metadata": {},
   "outputs": [
    {
     "data": {
      "text/html": [
       "<table style=\"border:1px solid black;border-collapse: collapse;\">\n",
       "<tr style='border:1px solid black;color:black;background-color:#808080'>\n",
       "      <th colspan='3'><center>Age</center></th></tr>\n",
       "<tr><th style='border:1px solid black;border-bottom-style: double;color:black;background-color:#BBBBBB'>\n",
       "      <center>15-34</center></th><th style='border:1px solid black;border-bottom-style: double;color:black;background-color:#BBBBBB'>\n",
       "      <center>35-54</center></th><th style='border:1px solid black;border-bottom-style: double;color:black;background-color:#BBBBBB'>\n",
       "      <center>55-74</center></th></tr>\n",
       "<tr><td style='color:black;background-color:#d4a964;text-align:right;padding: 3px;'>0.3315</td><td style='color:black;background-color:#d3aa64;text-align:right;padding: 3px;'>0.3429</td><td style='color:black;background-color:#d5a864;text-align:right;padding: 3px;'>0.3255</td></tr>\n",
       "</table>"
      ],
      "text/plain": [
       "(pyAgrum.Potential<double>@00000226A37B9160) \n",
       "  Age                        |\n",
       "15-34    |35-54    |55-74    |\n",
       "---------|---------|---------|\n",
       " 0.3315  | 0.3429  | 0.3255  |"
      ]
     },
     "execution_count": 659,
     "metadata": {},
     "output_type": "execute_result"
    }
   ],
   "source": [
    "# -----------------------------------------\n",
    "# Setting Up the CPTs for the Other Nodes\n",
    "# -----------------------------------------\n",
    "# Sociodemographic branch\n",
    "bn.cpt(edu).fillWith(percentage_edu)\n",
    "bn.cpt(age).fillWith(percentage_age) # gehaald van CBS\n"
   ]
  },
  {
   "cell_type": "code",
   "execution_count": 660,
   "id": "d3782604",
   "metadata": {},
   "outputs": [],
   "source": [
    "df_inc = pd.read_csv('Income.csv', delimiter=';', decimal=',')\n",
    "df_inc.rename(columns={\n",
    "    'Beroeps- en niet-beroepsbev. met inkomen/Beroeps- en niet-beroepsbev. met inkomen (x 1 000)': 'Income'\n",
    "}, inplace=True)\n"
   ]
  },
  {
   "cell_type": "code",
   "execution_count": 661,
   "id": "d4168145",
   "metadata": {},
   "outputs": [],
   "source": [
    "df_inc_edu_emp = df_inc.iloc[0:3] \n",
    "df_inc_edu_unemp = df_inc.iloc[9:12]\n",
    "df_inc_age_emp = df_inc.iloc[3:9]\n",
    "df_inc_age_unemp = df_inc.iloc[12:18]\n"
   ]
  },
  {
   "cell_type": "code",
   "execution_count": 662,
   "id": "7984068d",
   "metadata": {},
   "outputs": [
    {
     "name": "stdout",
     "output_type": "stream",
     "text": [
      "Percentage of Income (Employed): 96.25%\n",
      "Percentage of Income (Unemployed): 3.75%\n"
     ]
    }
   ],
   "source": [
    "# Calculate sum of Income for the employed slice (rows 0 to 2)\n",
    "sum_income_emp = df_inc_edu_emp['Income'].sum()\n",
    "\n",
    "# Calculate sum of Income for the unemployed slice (rows 9 to 11)\n",
    "sum_income_unemp = df_inc_edu_unemp['Income'].sum()\n",
    "\n",
    "# If you would like a total sum across both groups, simply add them:\n",
    "total_income = sum_income_emp + sum_income_unemp\n",
    "percentage_emp = (sum_income_emp / total_income) * 100\n",
    "percentage_unemp = (sum_income_unemp / total_income) * 100\n",
    "\n",
    "print(\"Percentage of Income (Employed): {:.2f}%\".format(percentage_emp))\n",
    "print(\"Percentage of Income (Unemployed): {:.2f}%\".format(percentage_unemp))"
   ]
  },
  {
   "cell_type": "code",
   "execution_count": 663,
   "id": "6760cb0f",
   "metadata": {},
   "outputs": [],
   "source": [
    "inc_edu_emp = []\n",
    "inc_edu_unemp = []\n",
    "for i in range(len(df_inc_edu_emp)):\n",
    "    temp_edu_emp = df_inc_edu_emp[\"Income\"][i]/(df_inc_edu_emp[\"Income\"][i]+df_inc_edu_unemp[\"Income\"][i+9])\n",
    "    temp_edu_unemp = df_inc_edu_unemp[\"Income\"][i+9]/(df_inc_edu_emp[\"Income\"][i]+df_inc_edu_unemp[\"Income\"][i+9])\n",
    "    inc_edu_emp.append(temp_edu_emp)\n",
    "    inc_edu_unemp.append(temp_edu_unemp)\n",
    "inc_edu = [inc_edu_emp, inc_edu_unemp]"
   ]
  },
  {
   "cell_type": "code",
   "execution_count": 664,
   "id": "f7ceded2",
   "metadata": {},
   "outputs": [],
   "source": [
    "inc_age_emp = []\n",
    "inc_age_unemp = []\n",
    "for i in range(len(df_inc_age_emp)):\n",
    "    temp_age_emp = df_inc_age_emp[\"Income\"][i+3]/(df_inc_age_emp[\"Income\"][i+3]+df_inc_age_unemp[\"Income\"][i+12])\n",
    "    temp_age_unemp = df_inc_age_unemp[\"Income\"][i+12]/(df_inc_age_emp[\"Income\"][i+3]+df_inc_age_unemp[\"Income\"][i+12])\n",
    "    inc_age_emp.append(temp_age_emp)\n",
    "    inc_age_unemp.append(temp_age_unemp)\n",
    "inc_age = [inc_age_emp, inc_age_unemp]"
   ]
  },
  {
   "cell_type": "code",
   "execution_count": 665,
   "id": "c79ccb4c",
   "metadata": {},
   "outputs": [],
   "source": [
    "# For Income (now conditioned on both Age and Education), we specify 9 rows.\n",
    "cpt_inc = bn.cpt(inc)\n",
    "# For Young individuals (Age = 0):\n",
    "cpt_inc[{'Age': 0, 'Education': 0}] = [0.90, 0.01]  # Lowest education\n",
    "cpt_inc[{'Age': 0, 'Education': 1}] = [0.80, 0.05]\n",
    "cpt_inc[{'Age': 0, 'Education': 2}] = [0.70, 0.10]\n",
    "\n",
    "# For Middle-aged individuals (Age = 1):\n",
    "cpt_inc[{'Age': 1, 'Education': 0}] = [0.60, 0.15]\n",
    "cpt_inc[{'Age': 1, 'Education': 1}] = [0.40, 0.25]\n",
    "cpt_inc[{'Age': 1, 'Education': 2}] = [0.30, 0.30]\n",
    "\n",
    "# For Old individuals (Age = 2):\n",
    "cpt_inc[{'Age': 2, 'Education': 0}] = [0.70, 0.10]\n",
    "cpt_inc[{'Age': 2, 'Education': 1}] = [0.15, 0.60]\n",
    "cpt_inc[{'Age': 2, 'Education': 2}] = [0.10, 0.70]"
   ]
  },
  {
   "cell_type": "code",
   "execution_count": 666,
   "id": "b670dfb9",
   "metadata": {},
   "outputs": [],
   "source": [
    "# Assume that 'bn' is your Bayesian network and 'socio' is the aggregated SocioStatus node.\n",
    "# The CPT for SocioStatus has 3 outcomes (e.g., 0 = High,  1 = Low).\n",
    "cpt_socio = bn.cpt(socio)\n",
    "\n",
    "# --- For Age = 0 (Young) ---\n",
    "cpt_socio[{'Education': 0, 'Income': 0}] = [0.05, 0.95]  \n",
    "cpt_socio[{'Education': 0, 'Income': 1}] = [0.1, 0.90]\n",
    "\n",
    "# --- For Age = 1 (Middle-aged) ---\n",
    "cpt_socio[{'Education': 1, 'Income': 0}] = [0.3, 0.7] \n",
    "cpt_socio[{'Education': 1, 'Income': 1}] = [0.5, 0.5]\n",
    "\n",
    "# --- For Age = 2 (Old) ---\n",
    "cpt_socio[{'Education': 2, 'Income': 0}] = [0.6, 0.4] \n",
    "cpt_socio[{'Education': 2, 'Income': 1}] = [0.8, 0.2]\n"
   ]
  },
  {
   "cell_type": "code",
   "execution_count": 667,
   "id": "79f310dc",
   "metadata": {},
   "outputs": [
    {
     "data": {
      "text/html": [
       "<table style=\"border:1px solid black;border-collapse: collapse;\">\n",
       "<tr style='border:1px solid black;color:black;background-color:#808080'>\n",
       "      <th colspan='2'><center>Obesity</center></th></tr>\n",
       "<tr><th style='border:1px solid black;border-bottom-style: double;color:black;background-color:#BBBBBB'>\n",
       "      <center>Obese</center></th><th style='border:1px solid black;border-bottom-style: double;color:black;background-color:#BBBBBB'>\n",
       "      <center>Not Obese</center></th></tr>\n",
       "<tr><td style='color:black;background-color:#cbb264;text-align:right;padding: 3px;'>0.4000</td><td style='color:black;background-color:#b2cb64;text-align:right;padding: 3px;'>0.6000</td></tr>\n",
       "</table>"
      ],
      "text/plain": [
       "(pyAgrum.Potential<double>@00000226A37BA4A0) \n",
       "  Obesity          |\n",
       "Obese    |Not Obese|\n",
       "---------|---------|\n",
       " 0.4000  | 0.6000  |"
      ]
     },
     "execution_count": 667,
     "metadata": {},
     "output_type": "execute_result"
    }
   ],
   "source": [
    "# Physical Health branch\n",
    "bn.cpt(physicalActivity).fillWith([0.3, 0.4, 0.3])\n",
    "bn.cpt(obesity).fillWith([0.4, 0.6])"
   ]
  },
  {
   "cell_type": "code",
   "execution_count": 668,
   "id": "2ffc3599",
   "metadata": {},
   "outputs": [],
   "source": [
    "# Retrieve the CPT for the Physical Attribute node (which now has parents: PhysicalActivity and Obesity)\n",
    "cpt_physattri = bn.cpt(physattri)\n",
    "\n",
    "# For PhysicalActivity = Active (index 0) and Obesity = Not Obese (index 0)\n",
    "cpt_physattri[{'Physical Activity': 0, 'Obesity': 0}] = [0.95, 0.05]\n",
    "# For PhysicalActivity = Active (index 0) and Obesity = Obese (index 1)\n",
    "cpt_physattri[{'Physical Activity': 0, 'Obesity': 1}] = [0.6, 0.4]\n",
    "\n",
    "# For PhysicalActivity = Moderate (index 1) and Obesity = Not Obese (index 0)\n",
    "cpt_physattri[{'Physical Activity': 1, 'Obesity': 0}] = [0.8, 0.2]\n",
    "# For PhysicalActivity = Moderate (index 1) and Obesity = Obese (index 1)\n",
    "cpt_physattri[{'Physical Activity': 1, 'Obesity': 1}] = [0.5, 0.5]\n",
    "\n",
    "# For PhysicalActivity = Inactive (index 2) and Obesity = Not Obese (index 0)\n",
    "cpt_physattri[{'Physical Activity': 2, 'Obesity': 0}] = [0.4, 0.6]\n",
    "# For PhysicalActivity = Inactive (index 2) and Obesity = Obese (index 1)\n",
    "cpt_physattri[{'Physical Activity': 2, 'Obesity': 1}] = [0.0, 1.0]\n"
   ]
  },
  {
   "cell_type": "code",
   "execution_count": 669,
   "id": "59e43d84",
   "metadata": {},
   "outputs": [
    {
     "data": {
      "text/html": [
       "<table style=\"border:1px solid black;border-collapse: collapse;\">\n",
       "<tr><th colspan='4'></th>\n",
       "      <th colspan='2' style='border:1px solid black;color:black;background-color:#808080;'><center>Depression</center>\n",
       "      </th></tr>\n",
       "<tr><th style='border:1px solid black;color:black;background-color:#808080'><center>AdverseChildhood</center></th><th style='border:1px solid black;color:black;background-color:#808080'><center>GeneticPredisposition</center></th><th style='border:1px solid black;color:black;background-color:#808080'><center>Physical Attribute</center></th><th style='border:1px solid black;color:black;background-color:#808080'><center>SocioStatus</center></th><th style='border:1px solid black;border-bottom-style: double;color:black;background-color:#BBBBBB'>\n",
       "      <center>No</center></th><th style='border:1px solid black;border-bottom-style: double;color:black;background-color:#BBBBBB'>\n",
       "      <center>Yes</center></th></tr>\n",
       "<tr><th style='border:1px solid black;color:black;background-color:#BBBBBB;' rowspan = '8'>\n",
       "            <center>Absent</center></th><th style='border:1px solid black;color:black;background-color:#BBBBBB;' rowspan = '4'>\n",
       "            <center>Absent</center></th><th style='border:1px solid black;color:black;background-color:#BBBBBB;' rowspan = '2'>\n",
       "            <center>Poor</center></th><th style='border:1px solid black;color:black;background-color:#BBBBBB'><center>Low</center></th><td style='color:black;background-color:#82fb64;text-align:right;padding: 3px;'>0.9703</td><td style='color:black;background-color:#fb8264;text-align:right;padding: 3px;'>0.0297</td></tr>\n",
       "<tr><th style='border:1px solid black;color:black;background-color:#BBBBBB'><center>High</center></th><td style='color:black;background-color:#87f664;text-align:right;padding: 3px;'>0.9311</td><td style='color:black;background-color:#f68764;text-align:right;padding: 3px;'>0.0689</td></tr>\n",
       "<tr><th style='border:1px solid black;color:black;background-color:#BBBBBB;' rowspan = '2'>\n",
       "            <center>Good</center></th><th style='border:1px solid black;color:black;background-color:#BBBBBB'><center>Low</center></th><td style='color:black;background-color:#85f864;text-align:right;padding: 3px;'>0.9509</td><td style='color:black;background-color:#f88564;text-align:right;padding: 3px;'>0.0491</td></tr>\n",
       "<tr><th style='border:1px solid black;color:black;background-color:#BBBBBB'><center>High</center></th><td style='color:black;background-color:#8af364;text-align:right;padding: 3px;'>0.9125</td><td style='color:black;background-color:#f38a64;text-align:right;padding: 3px;'>0.0875</td></tr>\n",
       "<tr><th style='border:1px solid black;color:black;background-color:#BBBBBB;' rowspan = '4'>\n",
       "            <center>Present</center></th><th style='border:1px solid black;color:black;background-color:#BBBBBB;' rowspan = '2'>\n",
       "            <center>Poor</center></th><th style='border:1px solid black;color:black;background-color:#BBBBBB'><center>Low</center></th><td style='color:black;background-color:#86f764;text-align:right;padding: 3px;'>0.9406</td><td style='color:black;background-color:#f78664;text-align:right;padding: 3px;'>0.0594</td></tr>\n",
       "<tr><th style='border:1px solid black;color:black;background-color:#BBBBBB'><center>High</center></th><td style='color:black;background-color:#90ed64;text-align:right;padding: 3px;'>0.8622</td><td style='color:black;background-color:#ed9064;text-align:right;padding: 3px;'>0.1378</td></tr>\n",
       "<tr><th style='border:1px solid black;color:black;background-color:#BBBBBB;' rowspan = '2'>\n",
       "            <center>Good</center></th><th style='border:1px solid black;color:black;background-color:#BBBBBB'><center>Low</center></th><td style='color:black;background-color:#8bf264;text-align:right;padding: 3px;'>0.9018</td><td style='color:black;background-color:#f28b64;text-align:right;padding: 3px;'>0.0982</td></tr>\n",
       "<tr><th style='border:1px solid black;color:black;background-color:#BBBBBB'><center>High</center></th><td style='color:black;background-color:#95e864;text-align:right;padding: 3px;'>0.8249</td><td style='color:black;background-color:#e89564;text-align:right;padding: 3px;'>0.1751</td></tr>\n",
       "<tr><th style='border:1px solid black;color:black;background-color:#BBBBBB;' rowspan = '8'>\n",
       "            <center>Present</center></th><th style='border:1px solid black;color:black;background-color:#BBBBBB;' rowspan = '4'>\n",
       "            <center>Absent</center></th><th style='border:1px solid black;color:black;background-color:#BBBBBB;' rowspan = '2'>\n",
       "            <center>Poor</center></th><th style='border:1px solid black;color:black;background-color:#BBBBBB'><center>Low</center></th><td style='color:black;background-color:#9ae364;text-align:right;padding: 3px;'>0.7841</td><td style='color:black;background-color:#e39a64;text-align:right;padding: 3px;'>0.2159</td></tr>\n",
       "<tr><th style='border:1px solid black;color:black;background-color:#BBBBBB'><center>High</center></th><td style='color:black;background-color:#9edf64;text-align:right;padding: 3px;'>0.7524</td><td style='color:black;background-color:#df9e64;text-align:right;padding: 3px;'>0.2476</td></tr>\n",
       "<tr><th style='border:1px solid black;color:black;background-color:#BBBBBB;' rowspan = '2'>\n",
       "            <center>Good</center></th><th style='border:1px solid black;color:black;background-color:#BBBBBB'><center>Low</center></th><td style='color:black;background-color:#9ce164;text-align:right;padding: 3px;'>0.7684</td><td style='color:black;background-color:#e19c64;text-align:right;padding: 3px;'>0.2316</td></tr>\n",
       "<tr><th style='border:1px solid black;color:black;background-color:#BBBBBB'><center>High</center></th><td style='color:black;background-color:#a0dd64;text-align:right;padding: 3px;'>0.7374</td><td style='color:black;background-color:#dda064;text-align:right;padding: 3px;'>0.2626</td></tr>\n",
       "<tr><th style='border:1px solid black;color:black;background-color:#BBBBBB;' rowspan = '4'>\n",
       "            <center>Present</center></th><th style='border:1px solid black;color:black;background-color:#BBBBBB;' rowspan = '2'>\n",
       "            <center>Poor</center></th><th style='border:1px solid black;color:black;background-color:#BBBBBB'><center>Low</center></th><td style='color:black;background-color:#b6c764;text-align:right;padding: 3px;'>0.5682</td><td style='color:black;background-color:#c7b664;text-align:right;padding: 3px;'>0.4318</td></tr>\n",
       "<tr><th style='border:1px solid black;color:black;background-color:#BBBBBB'><center>High</center></th><td style='color:black;background-color:#bebf64;text-align:right;padding: 3px;'>0.5048</td><td style='color:black;background-color:#bfbe64;text-align:right;padding: 3px;'>0.4952</td></tr>\n",
       "<tr><th style='border:1px solid black;color:black;background-color:#BBBBBB;' rowspan = '2'>\n",
       "            <center>Good</center></th><th style='border:1px solid black;color:black;background-color:#BBBBBB'><center>Low</center></th><td style='color:black;background-color:#bac364;text-align:right;padding: 3px;'>0.5368</td><td style='color:black;background-color:#c3ba64;text-align:right;padding: 3px;'>0.4632</td></tr>\n",
       "<tr><th style='border:1px solid black;color:black;background-color:#BBBBBB'><center>High</center></th><td style='color:black;background-color:#c2bb64;text-align:right;padding: 3px;'>0.4747</td><td style='color:black;background-color:#bbc264;text-align:right;padding: 3px;'>0.5253</td></tr>\n",
       "</table>"
      ],
      "text/plain": [
       "(pyAgrum.Potential<double>@00000226A37BB0E0) \n",
       "                           ||  Depression       |\n",
       "SocioS|Physic|Geneti|Advers||No       |Yes      |\n",
       "------|------|------|------||---------|---------|\n",
       "Low   |Poor  |Absent|Absent|| 0.9703  | 0.0297  |\n",
       "High  |Poor  |Absent|Absent|| 0.9311  | 0.0689  |\n",
       "Low   |Good  |Absent|Absent|| 0.9509  | 0.0491  |\n",
       "High  |Good  |Absent|Absent|| 0.9125  | 0.0875  |\n",
       "Low   |Poor  |Presen|Absent|| 0.9406  | 0.0594  |\n",
       "High  |Poor  |Presen|Absent|| 0.8622  | 0.1378  |\n",
       "[...4 more line(s) ...]\n",
       "Low   |Good  |Absent|Presen|| 0.7684  | 0.2316  |\n",
       "High  |Good  |Absent|Presen|| 0.7374  | 0.2626  |\n",
       "Low   |Poor  |Presen|Presen|| 0.5682  | 0.4318  |\n",
       "High  |Poor  |Presen|Presen|| 0.5048  | 0.4952  |\n",
       "Low   |Good  |Presen|Presen|| 0.5368  | 0.4632  |\n",
       "High  |Good  |Presen|Presen|| 0.4747  | 0.5253  |"
      ]
     },
     "execution_count": 669,
     "metadata": {},
     "output_type": "execute_result"
    }
   ],
   "source": [
    "# --- Define risk parameters ---\n",
    "# These values represent the triggering chances for each contributing factor\n",
    "ss_params = {0: 0.01, 1: 0.05}     # For SocioStatus: 0 = High, 1 = Medium, 2 = Low\n",
    "ph_params = {0: 0.0, 1: 0.02}      # For Physical Attribute: 0 = Good, 1 = Moderate, 2 = Poor\n",
    "ace_params = {0: 0.01, 1: 0.2}              # For ACE: 0 = Absent, 1 = Present\n",
    "gp_multiplier = {0: 1.0, 1: 2}         \n",
    "leak = 0.01                             # A small baseline risk\n",
    "\n",
    "# --- Retrieve and fill the CPT for Depression ---\n",
    "cpt_depress = bn.cpt(depress)\n",
    "cpt_values = []  # will accumulate a flat list of 72 numbers\n",
    "\n",
    "# For each combination of parent states:\n",
    "for ace_state, gp_state, ph, ss in itertools.product(range(2), range(2), range(2), range(2)):\n",
    "    # Compute the baseline probability without Genetic:\n",
    "    prod_failure = (1 - ss_params[ss]) * (1 - ph_params[ph]) * (1 - ace_params[ace_state]) * (1 - leak)\n",
    "    p_baseline = 1 - prod_failure  # noisy-OR probability from these factors\n",
    "\n",
    "    # genetic alone will not generate risk.\n",
    "    if gp_state == 1:\n",
    "        p_dep = min(1.0, p_baseline * gp_multiplier[1])\n",
    "    else:\n",
    "        p_dep = p_baseline\n",
    "\n",
    "    # For a binary outcome, the CPT row is: [P(No Depression), P(Depression)]\n",
    "    cpt_values.extend([1 - p_dep, p_dep])\n",
    "\n",
    "# Use fillWith with a flat list of 72 values\n",
    "cpt_depress.fillWith(cpt_values)"
   ]
  },
  {
   "cell_type": "code",
   "execution_count": 670,
   "id": "5a395101",
   "metadata": {},
   "outputs": [
    {
     "data": {
      "image/svg+xml": [
       "<svg xmlns=\"http://www.w3.org/2000/svg\" xmlns:xlink=\"http://www.w3.org/1999/xlink\" width=\"672pt\" height=\"260pt\" viewBox=\"0.00 0.00 671.82 260.00\">\n",
       "<g id=\"graph0\" class=\"graph\" transform=\"scale(1 1) rotate(0) translate(4 256)\">\n",
       "<title>G</title>\n",
       "<!-- GeneticPredisposition -->\n",
       "<g id=\"node1\" class=\"node\">\n",
       "<title>GeneticPredisposition</title>\n",
       "<g id=\"a_node1\"><a xlink:title=\"(7) GeneticPredisposition\">\n",
       "<ellipse fill=\"#404040\" stroke=\"#4a4a4a\" cx=\"92.3\" cy=\"-90\" rx=\"92.3\" ry=\"18\"/>\n",
       "<text text-anchor=\"middle\" x=\"92.3\" y=\"-84.95\" font-family=\"Times New Roman,serif\" font-size=\"14.00\" fill=\"white\">GeneticPredisposition</text>\n",
       "</a>\n",
       "</g>\n",
       "</g>\n",
       "<!-- Depression -->\n",
       "<g id=\"node9\" class=\"node\">\n",
       "<title>Depression</title>\n",
       "<g id=\"a_node9\"><a xlink:title=\"(9) Depression\">\n",
       "<ellipse fill=\"#404040\" stroke=\"#4a4a4a\" cx=\"355.3\" cy=\"-18\" rx=\"52.38\" ry=\"18\"/>\n",
       "<text text-anchor=\"middle\" x=\"355.3\" y=\"-12.95\" font-family=\"Times New Roman,serif\" font-size=\"14.00\" fill=\"white\">Depression</text>\n",
       "</a>\n",
       "</g>\n",
       "</g>\n",
       "<!-- GeneticPredisposition&#45;&gt;Depression -->\n",
       "<g id=\"edge5\" class=\"edge\">\n",
       "<title>GeneticPredisposition-&gt;Depression</title>\n",
       "<g id=\"a_edge5\"><a xlink:title=\"7 → 9\">\n",
       "<path fill=\"none\" stroke=\"#4a4a4a\" d=\"M145.2,-74.92C191.49,-62.6 258.29,-44.82 304.07,-32.64\"/>\n",
       "<polygon fill=\"#4a4a4a\" stroke=\"#4a4a4a\" points=\"304.71,-36.09 313.48,-30.13 302.91,-29.32 304.71,-36.09\"/>\n",
       "</a>\n",
       "</g>\n",
       "</g>\n",
       "<!-- Age -->\n",
       "<g id=\"node2\" class=\"node\">\n",
       "<title>Age</title>\n",
       "<g id=\"a_node2\"><a xlink:title=\"(0) Age\">\n",
       "<ellipse fill=\"#404040\" stroke=\"#4a4a4a\" cx=\"390.3\" cy=\"-234\" rx=\"27\" ry=\"18\"/>\n",
       "<text text-anchor=\"middle\" x=\"390.3\" y=\"-228.95\" font-family=\"Times New Roman,serif\" font-size=\"14.00\" fill=\"white\">Age</text>\n",
       "</a>\n",
       "</g>\n",
       "</g>\n",
       "<!-- Income -->\n",
       "<g id=\"node5\" class=\"node\">\n",
       "<title>Income</title>\n",
       "<g id=\"a_node5\"><a xlink:title=\"(2) Income\">\n",
       "<ellipse fill=\"#404040\" stroke=\"#4a4a4a\" cx=\"416.3\" cy=\"-162\" rx=\"39.07\" ry=\"18\"/>\n",
       "<text text-anchor=\"middle\" x=\"416.3\" y=\"-156.95\" font-family=\"Times New Roman,serif\" font-size=\"14.00\" fill=\"white\">Income</text>\n",
       "</a>\n",
       "</g>\n",
       "</g>\n",
       "<!-- Age&#45;&gt;Income -->\n",
       "<g id=\"edge6\" class=\"edge\">\n",
       "<title>Age-&gt;Income</title>\n",
       "<g id=\"a_edge6\"><a xlink:title=\"0 → 2\">\n",
       "<path fill=\"none\" stroke=\"#4a4a4a\" d=\"M396.59,-216.05C399.43,-208.4 402.86,-199.16 406.06,-190.56\"/>\n",
       "<polygon fill=\"#4a4a4a\" stroke=\"#4a4a4a\" points=\"409.33,-191.8 409.53,-181.21 402.77,-189.36 409.33,-191.8\"/>\n",
       "</a>\n",
       "</g>\n",
       "</g>\n",
       "<!-- Physical Attribute -->\n",
       "<g id=\"node3\" class=\"node\">\n",
       "<title>Physical Attribute</title>\n",
       "<g id=\"a_node3\"><a xlink:title=\"(6) Physical Attribute\">\n",
       "<ellipse fill=\"#404040\" stroke=\"#4a4a4a\" cx=\"280.3\" cy=\"-90\" rx=\"77.45\" ry=\"18\"/>\n",
       "<text text-anchor=\"middle\" x=\"280.3\" y=\"-84.95\" font-family=\"Times New Roman,serif\" font-size=\"14.00\" fill=\"white\">Physical Attribute</text>\n",
       "</a>\n",
       "</g>\n",
       "</g>\n",
       "<!-- Physical Attribute&#45;&gt;Depression -->\n",
       "<g id=\"edge2\" class=\"edge\">\n",
       "<title>Physical Attribute-&gt;Depression</title>\n",
       "<g id=\"a_edge2\"><a xlink:title=\"6 → 9\">\n",
       "<path fill=\"none\" stroke=\"#4a4a4a\" d=\"M298.45,-72.05C307.8,-63.33 319.36,-52.54 329.6,-42.98\"/>\n",
       "<polygon fill=\"#4a4a4a\" stroke=\"#4a4a4a\" points=\"331.8,-45.72 336.72,-36.34 327.02,-40.6 331.8,-45.72\"/>\n",
       "</a>\n",
       "</g>\n",
       "</g>\n",
       "<!-- Education -->\n",
       "<g id=\"node4\" class=\"node\">\n",
       "<title>Education</title>\n",
       "<g id=\"a_node4\"><a xlink:title=\"(1) Education\">\n",
       "<ellipse fill=\"#404040\" stroke=\"#4a4a4a\" cx=\"483.3\" cy=\"-234\" rx=\"48.28\" ry=\"18\"/>\n",
       "<text text-anchor=\"middle\" x=\"483.3\" y=\"-228.95\" font-family=\"Times New Roman,serif\" font-size=\"14.00\" fill=\"white\">Education</text>\n",
       "</a>\n",
       "</g>\n",
       "</g>\n",
       "<!-- Education&#45;&gt;Income -->\n",
       "<g id=\"edge1\" class=\"edge\">\n",
       "<title>Education-&gt;Income</title>\n",
       "<g id=\"a_edge1\"><a xlink:title=\"1 → 2\">\n",
       "<path fill=\"none\" stroke=\"#4a4a4a\" d=\"M467.76,-216.76C459.27,-207.89 448.59,-196.74 439.16,-186.89\"/>\n",
       "<polygon fill=\"#4a4a4a\" stroke=\"#4a4a4a\" points=\"441.78,-184.56 432.34,-179.76 436.72,-189.4 441.78,-184.56\"/>\n",
       "</a>\n",
       "</g>\n",
       "</g>\n",
       "<!-- SocioStatus -->\n",
       "<g id=\"node7\" class=\"node\">\n",
       "<title>SocioStatus</title>\n",
       "<g id=\"a_node7\"><a xlink:title=\"(3) SocioStatus\">\n",
       "<ellipse fill=\"#404040\" stroke=\"#4a4a4a\" cx=\"430.3\" cy=\"-90\" rx=\"54.42\" ry=\"18\"/>\n",
       "<text text-anchor=\"middle\" x=\"430.3\" y=\"-84.95\" font-family=\"Times New Roman,serif\" font-size=\"14.00\" fill=\"white\">SocioStatus</text>\n",
       "</a>\n",
       "</g>\n",
       "</g>\n",
       "<!-- Education&#45;&gt;SocioStatus -->\n",
       "<g id=\"edge10\" class=\"edge\">\n",
       "<title>Education-&gt;SocioStatus</title>\n",
       "<g id=\"a_edge10\"><a xlink:title=\"1 → 3\">\n",
       "<path fill=\"none\" stroke=\"#4a4a4a\" d=\"M481.48,-215.73C479.12,-197.39 474.1,-167.82 464.3,-144 460.51,-134.8 455.12,-125.44 449.74,-117.2\"/>\n",
       "<polygon fill=\"#4a4a4a\" stroke=\"#4a4a4a\" points=\"452.69,-115.32 444.16,-109.04 446.92,-119.27 452.69,-115.32\"/>\n",
       "</a>\n",
       "</g>\n",
       "</g>\n",
       "<!-- Income&#45;&gt;SocioStatus -->\n",
       "<g id=\"edge4\" class=\"edge\">\n",
       "<title>Income-&gt;SocioStatus</title>\n",
       "<g id=\"a_edge4\"><a xlink:title=\"2 → 3\">\n",
       "<path fill=\"none\" stroke=\"#4a4a4a\" d=\"M419.76,-143.7C421.23,-136.32 422.99,-127.52 424.65,-119.25\"/>\n",
       "<polygon fill=\"#4a4a4a\" stroke=\"#4a4a4a\" points=\"428.05,-120.08 426.58,-109.59 421.19,-118.71 428.05,-120.08\"/>\n",
       "</a>\n",
       "</g>\n",
       "</g>\n",
       "<!-- Physical Activity -->\n",
       "<g id=\"node6\" class=\"node\">\n",
       "<title>Physical Activity</title>\n",
       "<g id=\"a_node6\"><a xlink:title=\"(4) Physical Activity\">\n",
       "<ellipse fill=\"#404040\" stroke=\"#4a4a4a\" cx=\"161.3\" cy=\"-162\" rx=\"74.38\" ry=\"18\"/>\n",
       "<text text-anchor=\"middle\" x=\"161.3\" y=\"-156.95\" font-family=\"Times New Roman,serif\" font-size=\"14.00\" fill=\"white\">Physical Activity</text>\n",
       "</a>\n",
       "</g>\n",
       "</g>\n",
       "<!-- Physical Activity&#45;&gt;Physical Attribute -->\n",
       "<g id=\"edge3\" class=\"edge\">\n",
       "<title>Physical Activity-&gt;Physical Attribute</title>\n",
       "<g id=\"a_edge3\"><a xlink:title=\"4 → 6\">\n",
       "<path fill=\"none\" stroke=\"#4a4a4a\" d=\"M188.6,-144.94C204.81,-135.4 225.58,-123.18 243.26,-112.79\"/>\n",
       "<polygon fill=\"#4a4a4a\" stroke=\"#4a4a4a\" points=\"244.56,-116.08 251.41,-107.99 241.01,-110.05 244.56,-116.08\"/>\n",
       "</a>\n",
       "</g>\n",
       "</g>\n",
       "<!-- SocioStatus&#45;&gt;Depression -->\n",
       "<g id=\"edge8\" class=\"edge\">\n",
       "<title>SocioStatus-&gt;Depression</title>\n",
       "<g id=\"a_edge8\"><a xlink:title=\"3 → 9\">\n",
       "<path fill=\"none\" stroke=\"#4a4a4a\" d=\"M412.9,-72.76C403.5,-63.99 391.71,-52.99 381.25,-43.22\"/>\n",
       "<polygon fill=\"#4a4a4a\" stroke=\"#4a4a4a\" points=\"383.66,-40.69 373.96,-36.42 378.89,-45.8 383.66,-40.69\"/>\n",
       "</a>\n",
       "</g>\n",
       "</g>\n",
       "<!-- AdverseChildhood -->\n",
       "<g id=\"node8\" class=\"node\">\n",
       "<title>AdverseChildhood</title>\n",
       "<g id=\"a_node8\"><a xlink:title=\"(8) AdverseChildhood\">\n",
       "<ellipse fill=\"#404040\" stroke=\"#4a4a4a\" cx=\"583.3\" cy=\"-90\" rx=\"80.52\" ry=\"18\"/>\n",
       "<text text-anchor=\"middle\" x=\"583.3\" y=\"-84.95\" font-family=\"Times New Roman,serif\" font-size=\"14.00\" fill=\"white\">AdverseChildhood</text>\n",
       "</a>\n",
       "</g>\n",
       "</g>\n",
       "<!-- AdverseChildhood&#45;&gt;Depression -->\n",
       "<g id=\"edge7\" class=\"edge\">\n",
       "<title>AdverseChildhood-&gt;Depression</title>\n",
       "<g id=\"a_edge7\"><a xlink:title=\"8 → 9\">\n",
       "<path fill=\"none\" stroke=\"#4a4a4a\" d=\"M537.16,-74.83C498.58,-62.99 443.71,-46.15 404.35,-34.06\"/>\n",
       "<polygon fill=\"#4a4a4a\" stroke=\"#4a4a4a\" points=\"405.46,-30.74 394.88,-31.15 403.41,-37.43 405.46,-30.74\"/>\n",
       "</a>\n",
       "</g>\n",
       "</g>\n",
       "<!-- Obesity -->\n",
       "<g id=\"node10\" class=\"node\">\n",
       "<title>Obesity</title>\n",
       "<g id=\"a_node10\"><a xlink:title=\"(5) Obesity\">\n",
       "<ellipse fill=\"#404040\" stroke=\"#4a4a4a\" cx=\"293.3\" cy=\"-162\" rx=\"39.58\" ry=\"18\"/>\n",
       "<text text-anchor=\"middle\" x=\"293.3\" y=\"-156.95\" font-family=\"Times New Roman,serif\" font-size=\"14.00\" fill=\"white\">Obesity</text>\n",
       "</a>\n",
       "</g>\n",
       "</g>\n",
       "<!-- Obesity&#45;&gt;Physical Attribute -->\n",
       "<g id=\"edge9\" class=\"edge\">\n",
       "<title>Obesity-&gt;Physical Attribute</title>\n",
       "<g id=\"a_edge9\"><a xlink:title=\"5 → 6\">\n",
       "<path fill=\"none\" stroke=\"#4a4a4a\" d=\"M290.08,-143.7C288.71,-136.32 287.08,-127.52 285.54,-119.25\"/>\n",
       "<polygon fill=\"#4a4a4a\" stroke=\"#4a4a4a\" points=\"289.02,-118.79 283.75,-109.59 282.13,-120.06 289.02,-118.79\"/>\n",
       "</a>\n",
       "</g>\n",
       "</g>\n",
       "</g>\n",
       "</svg>"
      ],
      "text/plain": [
       "<IPython.core.display.SVG object>"
      ]
     },
     "metadata": {},
     "output_type": "display_data"
    }
   ],
   "source": [
    "gnb.show(bn, size=\"11\")  # Increase graphical scaling"
   ]
  },
  {
   "cell_type": "code",
   "execution_count": 671,
   "id": "450655f5",
   "metadata": {},
   "outputs": [
    {
     "name": "stdout",
     "output_type": "stream",
     "text": [
      "Statistics for Age:\n"
     ]
    },
    {
     "data": {
      "text/html": [
       "<table style=\"border:1px solid black;border-collapse: collapse;\"><tr style='border:1px solid black;color:black;background-color:#808080'>\n",
       "      <th colspan='3'><center>Age</center></th></tr><tr><th style='border:1px solid black;border-bottom-style: double;color:black;background-color:#BBBBBB'>\n",
       "      <center>15-34</center></th><th style='border:1px solid black;border-bottom-style: double;color:black;background-color:#BBBBBB'>\n",
       "      <center>35-54</center></th><th style='border:1px solid black;border-bottom-style: double;color:black;background-color:#BBBBBB'>\n",
       "      <center>55-74</center></th></tr><tr><td style='color:black;background-color:#d4a964;text-align:right;padding: 3px;'>0.3315</td><td style='color:black;background-color:#d3aa64;text-align:right;padding: 3px;'>0.3429</td><td style='color:black;background-color:#d5a864;text-align:right;padding: 3px;'>0.3255</td></tr></table>"
      ],
      "text/plain": [
       "<IPython.core.display.HTML object>"
      ]
     },
     "metadata": {},
     "output_type": "display_data"
    },
    {
     "name": "stdout",
     "output_type": "stream",
     "text": [
      "Statistics for Education:\n"
     ]
    },
    {
     "data": {
      "text/html": [
       "<table style=\"border:1px solid black;border-collapse: collapse;\"><tr style='border:1px solid black;color:black;background-color:#808080'>\n",
       "      <th colspan='3'><center>Education</center></th></tr><tr><th style='border:1px solid black;border-bottom-style: double;color:black;background-color:#BBBBBB'>\n",
       "      <center>Low</center></th><th style='border:1px solid black;border-bottom-style: double;color:black;background-color:#BBBBBB'>\n",
       "      <center>Medium</center></th><th style='border:1px solid black;border-bottom-style: double;color:black;background-color:#BBBBBB'>\n",
       "      <center>High</center></th></tr><tr><td style='color:black;background-color:#dda064;text-align:right;padding: 3px;'>0.2642</td><td style='color:black;background-color:#cdb064;text-align:right;padding: 3px;'>0.3891</td><td style='color:black;background-color:#d2ab64;text-align:right;padding: 3px;'>0.3467</td></tr></table>"
      ],
      "text/plain": [
       "<IPython.core.display.HTML object>"
      ]
     },
     "metadata": {},
     "output_type": "display_data"
    },
    {
     "name": "stdout",
     "output_type": "stream",
     "text": [
      "Statistics for Income:\n"
     ]
    },
    {
     "data": {
      "text/html": [
       "<table style=\"border:1px solid black;border-collapse: collapse;\"><tr><th colspan='2'></th>\n",
       "      <th colspan='2' style='border:1px solid black;color:black;background-color:#808080;'><center>Income</center>\n",
       "      </th></tr><tr><th style='border:1px solid black;color:black;background-color:#808080'><center>Education</center></th><th style='border:1px solid black;color:black;background-color:#808080'><center>Age</center></th><th style='border:1px solid black;border-bottom-style: double;color:black;background-color:#BBBBBB'>\n",
       "      <center>Unemployed</center></th><th style='border:1px solid black;border-bottom-style: double;color:black;background-color:#BBBBBB'>\n",
       "      <center>Employed</center></th></tr><tr><th style='border:1px solid black;color:black;background-color:#BBBBBB;' rowspan = '3'>\n",
       "            <center>Low</center></th><th style='border:1px solid black;color:black;background-color:#BBBBBB'><center>15-34</center></th><td style='text-align:right;padding: 3px;'>0.9000</td><td style='text-align:right;padding: 3px;'>0.0100</td></tr><tr><th style='border:1px solid black;color:black;background-color:#BBBBBB'><center>35-54</center></th><td style='text-align:right;padding: 3px;'>0.6000</td><td style='text-align:right;padding: 3px;'>0.1500</td></tr><tr><th style='border:1px solid black;color:black;background-color:#BBBBBB'><center>55-74</center></th><td style='text-align:right;padding: 3px;'>0.7000</td><td style='text-align:right;padding: 3px;'>0.1000</td></tr><tr><th style='border:1px solid black;color:black;background-color:#BBBBBB;' rowspan = '3'>\n",
       "            <center>Medium</center></th><th style='border:1px solid black;color:black;background-color:#BBBBBB'><center>15-34</center></th><td style='text-align:right;padding: 3px;'>0.8000</td><td style='text-align:right;padding: 3px;'>0.0500</td></tr><tr><th style='border:1px solid black;color:black;background-color:#BBBBBB'><center>35-54</center></th><td style='text-align:right;padding: 3px;'>0.4000</td><td style='text-align:right;padding: 3px;'>0.2500</td></tr><tr><th style='border:1px solid black;color:black;background-color:#BBBBBB'><center>55-74</center></th><td style='text-align:right;padding: 3px;'>0.1500</td><td style='text-align:right;padding: 3px;'>0.6000</td></tr><tr><th style='border:1px solid black;color:black;background-color:#BBBBBB;' rowspan = '3'>\n",
       "            <center>High</center></th><th style='border:1px solid black;color:black;background-color:#BBBBBB'><center>15-34</center></th><td style='text-align:right;padding: 3px;'>0.7000</td><td style='text-align:right;padding: 3px;'>0.1000</td></tr><tr><th style='border:1px solid black;color:black;background-color:#BBBBBB'><center>35-54</center></th><td style='text-align:right;padding: 3px;'>0.3000</td><td style='text-align:right;padding: 3px;'>0.3000</td></tr><tr><th style='border:1px solid black;color:black;background-color:#BBBBBB'><center>55-74</center></th><td style='text-align:right;padding: 3px;'>0.1000</td><td style='text-align:right;padding: 3px;'>0.7000</td></tr></table>"
      ],
      "text/plain": [
       "<IPython.core.display.HTML object>"
      ]
     },
     "metadata": {},
     "output_type": "display_data"
    },
    {
     "name": "stdout",
     "output_type": "stream",
     "text": [
      "Statistics for SocioStatus:\n"
     ]
    },
    {
     "data": {
      "text/html": [
       "<table style=\"border:1px solid black;border-collapse: collapse;\"><tr><th colspan='2'></th>\n",
       "      <th colspan='2' style='border:1px solid black;color:black;background-color:#808080;'><center>SocioStatus</center>\n",
       "      </th></tr><tr><th style='border:1px solid black;color:black;background-color:#808080'><center>Income</center></th><th style='border:1px solid black;color:black;background-color:#808080'><center>Education</center></th><th style='border:1px solid black;border-bottom-style: double;color:black;background-color:#BBBBBB'>\n",
       "      <center>Low</center></th><th style='border:1px solid black;border-bottom-style: double;color:black;background-color:#BBBBBB'>\n",
       "      <center>High</center></th></tr><tr><th style='border:1px solid black;color:black;background-color:#BBBBBB;' rowspan = '3'>\n",
       "            <center>Unemployed</center></th><th style='border:1px solid black;color:black;background-color:#BBBBBB'><center>Low</center></th><td style='color:black;background-color:#f88564;text-align:right;padding: 3px;'>0.0500</td><td style='color:black;background-color:#85f864;text-align:right;padding: 3px;'>0.9500</td></tr><tr><th style='border:1px solid black;color:black;background-color:#BBBBBB'><center>Medium</center></th><td style='color:black;background-color:#d8a564;text-align:right;padding: 3px;'>0.3000</td><td style='color:black;background-color:#a5d864;text-align:right;padding: 3px;'>0.7000</td></tr><tr><th style='border:1px solid black;color:black;background-color:#BBBBBB'><center>High</center></th><td style='color:black;background-color:#b2cb64;text-align:right;padding: 3px;'>0.6000</td><td style='color:black;background-color:#cbb264;text-align:right;padding: 3px;'>0.4000</td></tr><tr><th style='border:1px solid black;color:black;background-color:#BBBBBB;' rowspan = '3'>\n",
       "            <center>Employed</center></th><th style='border:1px solid black;color:black;background-color:#BBBBBB'><center>Low</center></th><td style='color:black;background-color:#f28b64;text-align:right;padding: 3px;'>0.1000</td><td style='color:black;background-color:#8bf264;text-align:right;padding: 3px;'>0.9000</td></tr><tr><th style='border:1px solid black;color:black;background-color:#BBBBBB'><center>Medium</center></th><td style='color:black;background-color:#bfbf64;text-align:right;padding: 3px;'>0.5000</td><td style='color:black;background-color:#bfbf64;text-align:right;padding: 3px;'>0.5000</td></tr><tr><th style='border:1px solid black;color:black;background-color:#BBBBBB'><center>High</center></th><td style='color:black;background-color:#98e564;text-align:right;padding: 3px;'>0.8000</td><td style='color:black;background-color:#e59864;text-align:right;padding: 3px;'>0.2000</td></tr></table>"
      ],
      "text/plain": [
       "<IPython.core.display.HTML object>"
      ]
     },
     "metadata": {},
     "output_type": "display_data"
    },
    {
     "name": "stdout",
     "output_type": "stream",
     "text": [
      "Statistics for Physical Activity:\n"
     ]
    },
    {
     "data": {
      "text/html": [
       "<table style=\"border:1px solid black;border-collapse: collapse;\"><tr style='border:1px solid black;color:black;background-color:#808080'>\n",
       "      <th colspan='3'><center>Physical Activity</center></th></tr><tr><th style='border:1px solid black;border-bottom-style: double;color:black;background-color:#BBBBBB'>\n",
       "      <center>Inactive</center></th><th style='border:1px solid black;border-bottom-style: double;color:black;background-color:#BBBBBB'>\n",
       "      <center>Moderate</center></th><th style='border:1px solid black;border-bottom-style: double;color:black;background-color:#BBBBBB'>\n",
       "      <center>Active</center></th></tr><tr><td style='color:black;background-color:#d8a564;text-align:right;padding: 3px;'>0.3000</td><td style='color:black;background-color:#cbb264;text-align:right;padding: 3px;'>0.4000</td><td style='color:black;background-color:#d8a564;text-align:right;padding: 3px;'>0.3000</td></tr></table>"
      ],
      "text/plain": [
       "<IPython.core.display.HTML object>"
      ]
     },
     "metadata": {},
     "output_type": "display_data"
    },
    {
     "name": "stdout",
     "output_type": "stream",
     "text": [
      "Statistics for Obesity:\n"
     ]
    },
    {
     "data": {
      "text/html": [
       "<table style=\"border:1px solid black;border-collapse: collapse;\"><tr style='border:1px solid black;color:black;background-color:#808080'>\n",
       "      <th colspan='2'><center>Obesity</center></th></tr><tr><th style='border:1px solid black;border-bottom-style: double;color:black;background-color:#BBBBBB'>\n",
       "      <center>Obese</center></th><th style='border:1px solid black;border-bottom-style: double;color:black;background-color:#BBBBBB'>\n",
       "      <center>Not Obese</center></th></tr><tr><td style='color:black;background-color:#cbb264;text-align:right;padding: 3px;'>0.4000</td><td style='color:black;background-color:#b2cb64;text-align:right;padding: 3px;'>0.6000</td></tr></table>"
      ],
      "text/plain": [
       "<IPython.core.display.HTML object>"
      ]
     },
     "metadata": {},
     "output_type": "display_data"
    },
    {
     "name": "stdout",
     "output_type": "stream",
     "text": [
      "Statistics for Physical Attribute:\n"
     ]
    },
    {
     "data": {
      "text/html": [
       "<table style=\"border:1px solid black;border-collapse: collapse;\"><tr><th colspan='2'></th>\n",
       "      <th colspan='2' style='border:1px solid black;color:black;background-color:#808080;'><center>Physical Attribute</center>\n",
       "      </th></tr><tr><th style='border:1px solid black;color:black;background-color:#808080'><center>Obesity</center></th><th style='border:1px solid black;color:black;background-color:#808080'><center>Physical Activity</center></th><th style='border:1px solid black;border-bottom-style: double;color:black;background-color:#BBBBBB'>\n",
       "      <center>Poor</center></th><th style='border:1px solid black;border-bottom-style: double;color:black;background-color:#BBBBBB'>\n",
       "      <center>Good</center></th></tr><tr><th style='border:1px solid black;color:black;background-color:#BBBBBB;' rowspan = '3'>\n",
       "            <center>Obese</center></th><th style='border:1px solid black;color:black;background-color:#BBBBBB'><center>Inactive</center></th><td style='color:black;background-color:#85f864;text-align:right;padding: 3px;'>0.9500</td><td style='color:black;background-color:#f88564;text-align:right;padding: 3px;'>0.0500</td></tr><tr><th style='border:1px solid black;color:black;background-color:#BBBBBB'><center>Moderate</center></th><td style='color:black;background-color:#98e564;text-align:right;padding: 3px;'>0.8000</td><td style='color:black;background-color:#e59864;text-align:right;padding: 3px;'>0.2000</td></tr><tr><th style='border:1px solid black;color:black;background-color:#BBBBBB'><center>Active</center></th><td style='color:black;background-color:#cbb264;text-align:right;padding: 3px;'>0.4000</td><td style='color:black;background-color:#b2cb64;text-align:right;padding: 3px;'>0.6000</td></tr><tr><th style='border:1px solid black;color:black;background-color:#BBBBBB;' rowspan = '3'>\n",
       "            <center>Not Obese</center></th><th style='border:1px solid black;color:black;background-color:#BBBBBB'><center>Inactive</center></th><td style='color:black;background-color:#b2cb64;text-align:right;padding: 3px;'>0.6000</td><td style='color:black;background-color:#cbb264;text-align:right;padding: 3px;'>0.4000</td></tr><tr><th style='border:1px solid black;color:black;background-color:#BBBBBB'><center>Moderate</center></th><td style='color:black;background-color:#bfbf64;text-align:right;padding: 3px;'>0.5000</td><td style='color:black;background-color:#bfbf64;text-align:right;padding: 3px;'>0.5000</td></tr><tr><th style='border:1px solid black;color:black;background-color:#BBBBBB'><center>Active</center></th><td style='color:black;background-color:#ff7f64;text-align:right;padding: 3px;'>0.0000</td><td style='color:black;background-color:#7fff64;text-align:right;padding: 3px;'>1.0000</td></tr></table>"
      ],
      "text/plain": [
       "<IPython.core.display.HTML object>"
      ]
     },
     "metadata": {},
     "output_type": "display_data"
    },
    {
     "name": "stdout",
     "output_type": "stream",
     "text": [
      "Statistics for GeneticPredisposition:\n"
     ]
    },
    {
     "data": {
      "text/html": [
       "<table style=\"border:1px solid black;border-collapse: collapse;\"><tr style='border:1px solid black;color:black;background-color:#808080'>\n",
       "      <th colspan='2'><center>GeneticPredisposition</center></th></tr><tr><th style='border:1px solid black;border-bottom-style: double;color:black;background-color:#BBBBBB'>\n",
       "      <center>Absent</center></th><th style='border:1px solid black;border-bottom-style: double;color:black;background-color:#BBBBBB'>\n",
       "      <center>Present</center></th></tr><tr><td style='color:black;background-color:#98e564;text-align:right;padding: 3px;'>0.8000</td><td style='color:black;background-color:#e59864;text-align:right;padding: 3px;'>0.2000</td></tr></table>"
      ],
      "text/plain": [
       "<IPython.core.display.HTML object>"
      ]
     },
     "metadata": {},
     "output_type": "display_data"
    },
    {
     "name": "stdout",
     "output_type": "stream",
     "text": [
      "Statistics for AdverseChildhood:\n"
     ]
    },
    {
     "data": {
      "text/html": [
       "<table style=\"border:1px solid black;border-collapse: collapse;\"><tr style='border:1px solid black;color:black;background-color:#808080'>\n",
       "      <th colspan='2'><center>AdverseChildhood</center></th></tr><tr><th style='border:1px solid black;border-bottom-style: double;color:black;background-color:#BBBBBB'>\n",
       "      <center>Absent</center></th><th style='border:1px solid black;border-bottom-style: double;color:black;background-color:#BBBBBB'>\n",
       "      <center>Present</center></th></tr><tr><td style='color:black;background-color:#85f864;text-align:right;padding: 3px;'>0.9500</td><td style='color:black;background-color:#f88564;text-align:right;padding: 3px;'>0.0500</td></tr></table>"
      ],
      "text/plain": [
       "<IPython.core.display.HTML object>"
      ]
     },
     "metadata": {},
     "output_type": "display_data"
    },
    {
     "name": "stdout",
     "output_type": "stream",
     "text": [
      "Statistics for Depression:\n"
     ]
    },
    {
     "data": {
      "text/html": [
       "<table style=\"border:1px solid black;border-collapse: collapse;\"><tr><th colspan='4'></th>\n",
       "      <th colspan='2' style='border:1px solid black;color:black;background-color:#808080;'><center>Depression</center>\n",
       "      </th></tr><tr><th style='border:1px solid black;color:black;background-color:#808080'><center>AdverseChildhood</center></th><th style='border:1px solid black;color:black;background-color:#808080'><center>GeneticPredisposition</center></th><th style='border:1px solid black;color:black;background-color:#808080'><center>Physical Attribute</center></th><th style='border:1px solid black;color:black;background-color:#808080'><center>SocioStatus</center></th><th style='border:1px solid black;border-bottom-style: double;color:black;background-color:#BBBBBB'>\n",
       "      <center>No</center></th><th style='border:1px solid black;border-bottom-style: double;color:black;background-color:#BBBBBB'>\n",
       "      <center>Yes</center></th></tr><tr><th style='border:1px solid black;color:black;background-color:#BBBBBB;' rowspan = '8'>\n",
       "            <center>Absent</center></th><th style='border:1px solid black;color:black;background-color:#BBBBBB;' rowspan = '4'>\n",
       "            <center>Absent</center></th><th style='border:1px solid black;color:black;background-color:#BBBBBB;' rowspan = '2'>\n",
       "            <center>Poor</center></th><th style='border:1px solid black;color:black;background-color:#BBBBBB'><center>Low</center></th><td style='color:black;background-color:#82fb64;text-align:right;padding: 3px;'>0.9703</td><td style='color:black;background-color:#fb8264;text-align:right;padding: 3px;'>0.0297</td></tr><tr><th style='border:1px solid black;color:black;background-color:#BBBBBB'><center>High</center></th><td style='color:black;background-color:#87f664;text-align:right;padding: 3px;'>0.9311</td><td style='color:black;background-color:#f68764;text-align:right;padding: 3px;'>0.0689</td></tr><tr><th style='border:1px solid black;color:black;background-color:#BBBBBB;' rowspan = '2'>\n",
       "            <center>Good</center></th><th style='border:1px solid black;color:black;background-color:#BBBBBB'><center>Low</center></th><td style='color:black;background-color:#85f864;text-align:right;padding: 3px;'>0.9509</td><td style='color:black;background-color:#f88564;text-align:right;padding: 3px;'>0.0491</td></tr><tr><th style='border:1px solid black;color:black;background-color:#BBBBBB'><center>High</center></th><td style='color:black;background-color:#8af364;text-align:right;padding: 3px;'>0.9125</td><td style='color:black;background-color:#f38a64;text-align:right;padding: 3px;'>0.0875</td></tr><tr><th style='border:1px solid black;color:black;background-color:#BBBBBB;' rowspan = '4'>\n",
       "            <center>Present</center></th><th style='border:1px solid black;color:black;background-color:#BBBBBB;' rowspan = '2'>\n",
       "            <center>Poor</center></th><th style='border:1px solid black;color:black;background-color:#BBBBBB'><center>Low</center></th><td style='color:black;background-color:#86f764;text-align:right;padding: 3px;'>0.9406</td><td style='color:black;background-color:#f78664;text-align:right;padding: 3px;'>0.0594</td></tr><tr><th style='border:1px solid black;color:black;background-color:#BBBBBB'><center>High</center></th><td style='color:black;background-color:#90ed64;text-align:right;padding: 3px;'>0.8622</td><td style='color:black;background-color:#ed9064;text-align:right;padding: 3px;'>0.1378</td></tr><tr><th style='border:1px solid black;color:black;background-color:#BBBBBB;' rowspan = '2'>\n",
       "            <center>Good</center></th><th style='border:1px solid black;color:black;background-color:#BBBBBB'><center>Low</center></th><td style='color:black;background-color:#8bf264;text-align:right;padding: 3px;'>0.9018</td><td style='color:black;background-color:#f28b64;text-align:right;padding: 3px;'>0.0982</td></tr><tr><th style='border:1px solid black;color:black;background-color:#BBBBBB'><center>High</center></th><td style='color:black;background-color:#95e864;text-align:right;padding: 3px;'>0.8249</td><td style='color:black;background-color:#e89564;text-align:right;padding: 3px;'>0.1751</td></tr><tr><th style='border:1px solid black;color:black;background-color:#BBBBBB;' rowspan = '8'>\n",
       "            <center>Present</center></th><th style='border:1px solid black;color:black;background-color:#BBBBBB;' rowspan = '4'>\n",
       "            <center>Absent</center></th><th style='border:1px solid black;color:black;background-color:#BBBBBB;' rowspan = '2'>\n",
       "            <center>Poor</center></th><th style='border:1px solid black;color:black;background-color:#BBBBBB'><center>Low</center></th><td style='color:black;background-color:#9ae364;text-align:right;padding: 3px;'>0.7841</td><td style='color:black;background-color:#e39a64;text-align:right;padding: 3px;'>0.2159</td></tr><tr><th style='border:1px solid black;color:black;background-color:#BBBBBB'><center>High</center></th><td style='color:black;background-color:#9edf64;text-align:right;padding: 3px;'>0.7524</td><td style='color:black;background-color:#df9e64;text-align:right;padding: 3px;'>0.2476</td></tr><tr><th style='border:1px solid black;color:black;background-color:#BBBBBB;' rowspan = '2'>\n",
       "            <center>Good</center></th><th style='border:1px solid black;color:black;background-color:#BBBBBB'><center>Low</center></th><td style='color:black;background-color:#9ce164;text-align:right;padding: 3px;'>0.7684</td><td style='color:black;background-color:#e19c64;text-align:right;padding: 3px;'>0.2316</td></tr><tr><th style='border:1px solid black;color:black;background-color:#BBBBBB'><center>High</center></th><td style='color:black;background-color:#a0dd64;text-align:right;padding: 3px;'>0.7374</td><td style='color:black;background-color:#dda064;text-align:right;padding: 3px;'>0.2626</td></tr><tr><th style='border:1px solid black;color:black;background-color:#BBBBBB;' rowspan = '4'>\n",
       "            <center>Present</center></th><th style='border:1px solid black;color:black;background-color:#BBBBBB;' rowspan = '2'>\n",
       "            <center>Poor</center></th><th style='border:1px solid black;color:black;background-color:#BBBBBB'><center>Low</center></th><td style='color:black;background-color:#b6c764;text-align:right;padding: 3px;'>0.5682</td><td style='color:black;background-color:#c7b664;text-align:right;padding: 3px;'>0.4318</td></tr><tr><th style='border:1px solid black;color:black;background-color:#BBBBBB'><center>High</center></th><td style='color:black;background-color:#bebf64;text-align:right;padding: 3px;'>0.5048</td><td style='color:black;background-color:#bfbe64;text-align:right;padding: 3px;'>0.4952</td></tr><tr><th style='border:1px solid black;color:black;background-color:#BBBBBB;' rowspan = '2'>\n",
       "            <center>Good</center></th><th style='border:1px solid black;color:black;background-color:#BBBBBB'><center>Low</center></th><td style='color:black;background-color:#bac364;text-align:right;padding: 3px;'>0.5368</td><td style='color:black;background-color:#c3ba64;text-align:right;padding: 3px;'>0.4632</td></tr><tr><th style='border:1px solid black;color:black;background-color:#BBBBBB'><center>High</center></th><td style='color:black;background-color:#c2bb64;text-align:right;padding: 3px;'>0.4747</td><td style='color:black;background-color:#bbc264;text-align:right;padding: 3px;'>0.5253</td></tr></table>"
      ],
      "text/plain": [
       "<IPython.core.display.HTML object>"
      ]
     },
     "metadata": {},
     "output_type": "display_data"
    }
   ],
   "source": [
    "# Iterate over all nodes in the BN and show their CPTs:\n",
    "for node in bn.nodes():\n",
    "    var_name = bn.variable(node).name()\n",
    "    print(f\"Statistics for {var_name}:\")\n",
    "    gnb.showPotential(bn.cpt(node))"
   ]
  },
  {
   "cell_type": "code",
   "execution_count": null,
   "id": "374b4040",
   "metadata": {},
   "outputs": [],
   "source": [
    "ie = gum.LazyPropagation(bn)\n",
    "ie.setEvidence({'Age': [0.6, 0.3, 0.1]})\n",
    "ie.setEvidence({'Obesity': [0.6, 0.4]})\n",
    "gnb.showInference(bn)"
   ]
  }
 ],
 "metadata": {
  "kernelspec": {
   "display_name": "Python 3",
   "language": "python",
   "name": "python3"
  },
  "language_info": {
   "codemirror_mode": {
    "name": "ipython",
    "version": 3
   },
   "file_extension": ".py",
   "mimetype": "text/x-python",
   "name": "python",
   "nbconvert_exporter": "python",
   "pygments_lexer": "ipython3",
   "version": "3.10.11"
  }
 },
 "nbformat": 4,
 "nbformat_minor": 5
}
